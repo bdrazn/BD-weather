{
 "cells": [
  {
   "cell_type": "code",
   "execution_count": 1,
   "metadata": {},
   "outputs": [],
   "source": [
    "import pandas as pd\n",
    "from sklearn.model_selection import train_test_split\n",
    "from sklearn.metrics import accuracy_score\n",
    "import requests\n",
    "import json\n",
    "import csv"
   ]
  },
  {
   "cell_type": "code",
   "execution_count": 134,
   "metadata": {},
   "outputs": [],
   "source": [
    "url = \"https://api.openweathermap.org/data/2.5/forecast?lat=41.499321&lon=-81.694359&appid=1b1572712a676a1b6e72bb7cdb538e3f\"\n",
    "\n",
    "response = requests.get(url)\n",
    "data = json.loads(response.text)\n",
    "\n",
    "with open(\"forecasts.csv\", mode=\"w\", newline=\"\") as csv_file:\n",
    "    writer = csv.writer(csv_file)\n",
    "    writer.writerow([\"date_time\", \"temperature\", \"feels_like\", \"temp_min\", \"temp_max\", \"pressure\", \"sea_level\", \"grnd_level\", \"humidity\", \"weather_description\", \"clouds_all\", \"wind_speed\", \"wind_deg\"])\n",
    "    for item in data[\"list\"]:\n",
    "        writer.writerow([\n",
    "            item[\"dt_txt\"],\n",
    "            item[\"main\"][\"temp\"],\n",
    "            item[\"main\"][\"feels_like\"],\n",
    "            item[\"main\"][\"temp_min\"],\n",
    "            item[\"main\"][\"temp_max\"],\n",
    "            item[\"main\"][\"pressure\"],\n",
    "            item[\"main\"].get(\"sea_level\", \"\"),\n",
    "            item[\"main\"].get(\"grnd_level\", \"\"),\n",
    "            item[\"main\"][\"humidity\"],\n",
    "            item[\"weather\"][0][\"description\"],\n",
    "            item[\"clouds\"][\"all\"],\n",
    "            item[\"wind\"][\"speed\"],\n",
    "            item[\"wind\"][\"deg\"]\n",
    "        ])"
   ]
  },
  {
   "cell_type": "code",
   "execution_count": 135,
   "metadata": {},
   "outputs": [],
   "source": [
    "from datetime import datetime\n",
    "\n",
    "with open(\"forecasts.csv\", mode=\"r\") as csv_file:\n",
    "    reader = csv.reader(csv_file)\n",
    "    header = next(reader)\n",
    "    data = list(reader)\n",
    "\n",
    "date_groups = {}\n",
    "for row in data:\n",
    "    date_str = row[0].split()[0]\n",
    "    if date_str not in date_groups:\n",
    "        date_groups[date_str] = []\n",
    "    date_groups[date_str].append(row)\n",
    "\n",
    "selected_rows = []\n",
    "for date_str, rows in date_groups.items():\n",
    "    rows_sorted = sorted(rows, key=lambda row: datetime.strptime(row[0], \"%Y-%m-%d %H:%M:%S\"))\n",
    "    selected_row = rows_sorted[0]\n",
    "    selected_rows.append(selected_row)\n",
    "\n",
    "with open(\"forecast2.csv\", mode=\"w\", newline=\"\") as csv_file:\n",
    "    writer = csv.writer(csv_file)\n",
    "    writer.writerow(header)\n",
    "    writer.writerows(selected_rows)"
   ]
  },
  {
   "cell_type": "code",
   "execution_count": 136,
   "metadata": {},
   "outputs": [],
   "source": [
    "\n",
    "\n",
    "df = pd.read_csv(\"forecast2.csv\")\n",
    "df_test = df.drop(\"date_time\", axis=1)\n",
    "df_test_y = df_test[\"weather_description\"]\n",
    "df_test = df_test.drop(\"weather_description\", axis=1)\n",
    "\n",
    "\n"
   ]
  },
  {
   "cell_type": "code",
   "execution_count": 3,
   "metadata": {},
   "outputs": [],
   "source": [
    "data = pd.read_csv(\"cleveland_weather.csv\", usecols=[ \"temperature\", \"feels_like\", \"temp_min\", \"temp_max\", \"pressure\",\"sea_level\",\"grnd_level\",\"humidity\",\"clouds_all\",\"wind_speed\",\"wind_deg\", \"weather_conditions\"])\n",
    "\n",
    "X = data.drop(\"weather_conditions\", axis=1)\n",
    "X = X.fillna(-9999999)\n",
    "y = data[\"weather_conditions\"]\n",
    "\n"
   ]
  },
  {
   "cell_type": "code",
   "execution_count": 7,
   "metadata": {},
   "outputs": [
    {
     "data": {
      "text/plain": [
       "dtype('O')"
      ]
     },
     "execution_count": 7,
     "metadata": {},
     "output_type": "execute_result"
    }
   ],
   "source": []
  },
  {
   "cell_type": "code",
   "execution_count": 122,
   "metadata": {},
   "outputs": [
    {
     "data": {
      "text/plain": [
       "array([1, 1, 1, 1, 1, 2, 1, 1, 1, 1, 1])"
      ]
     },
     "execution_count": 122,
     "metadata": {},
     "output_type": "execute_result"
    }
   ],
   "source": [
    "from sklearn.feature_selection import RFE\n",
    "\n",
    "from sklearn.tree import DecisionTreeClassifier\n",
    "rfe = RFE(estimator=DecisionTreeClassifier(), n_features_to_select=10)\n",
    "rfe.fit(X, y)\n",
    "rfe.ranking_\n",
    "\n"
   ]
  },
  {
   "cell_type": "code",
   "execution_count": 138,
   "metadata": {},
   "outputs": [],
   "source": [
    "mask = rfe.support_\n",
    "selected_cols = X.columns[mask]\n",
    "selected_df = pd.DataFrame()\n",
    "selected_test = pd.DataFrame()\n",
    "df_testdf = pd.DataFrame(df_test)\n",
    "for col in selected_cols:\n",
    "    selected_df[col] = X[col].values\n",
    "    selected_test[col] = df_testdf[col].values"
   ]
  },
  {
   "cell_type": "code",
   "execution_count": 139,
   "metadata": {},
   "outputs": [
    {
     "data": {
      "text/html": [
       "<div>\n",
       "<style scoped>\n",
       "    .dataframe tbody tr th:only-of-type {\n",
       "        vertical-align: middle;\n",
       "    }\n",
       "\n",
       "    .dataframe tbody tr th {\n",
       "        vertical-align: top;\n",
       "    }\n",
       "\n",
       "    .dataframe thead th {\n",
       "        text-align: right;\n",
       "    }\n",
       "</style>\n",
       "<table border=\"1\" class=\"dataframe\">\n",
       "  <thead>\n",
       "    <tr style=\"text-align: right;\">\n",
       "      <th></th>\n",
       "      <th>temperature</th>\n",
       "      <th>feels_like</th>\n",
       "      <th>temp_min</th>\n",
       "      <th>temp_max</th>\n",
       "      <th>pressure</th>\n",
       "      <th>grnd_level</th>\n",
       "      <th>humidity</th>\n",
       "      <th>wind_speed</th>\n",
       "      <th>wind_deg</th>\n",
       "      <th>clouds_all</th>\n",
       "    </tr>\n",
       "  </thead>\n",
       "  <tbody>\n",
       "    <tr>\n",
       "      <th>0</th>\n",
       "      <td>273.56</td>\n",
       "      <td>267.47</td>\n",
       "      <td>273.05</td>\n",
       "      <td>273.64</td>\n",
       "      <td>1015</td>\n",
       "      <td>-9999999.0</td>\n",
       "      <td>92</td>\n",
       "      <td>7.7</td>\n",
       "      <td>220</td>\n",
       "      <td>100</td>\n",
       "    </tr>\n",
       "    <tr>\n",
       "      <th>1</th>\n",
       "      <td>274.45</td>\n",
       "      <td>269.26</td>\n",
       "      <td>273.05</td>\n",
       "      <td>274.64</td>\n",
       "      <td>1016</td>\n",
       "      <td>-9999999.0</td>\n",
       "      <td>88</td>\n",
       "      <td>6.2</td>\n",
       "      <td>260</td>\n",
       "      <td>100</td>\n",
       "    </tr>\n",
       "    <tr>\n",
       "      <th>2</th>\n",
       "      <td>274.45</td>\n",
       "      <td>269.26</td>\n",
       "      <td>273.05</td>\n",
       "      <td>274.64</td>\n",
       "      <td>1016</td>\n",
       "      <td>-9999999.0</td>\n",
       "      <td>93</td>\n",
       "      <td>6.2</td>\n",
       "      <td>230</td>\n",
       "      <td>100</td>\n",
       "    </tr>\n",
       "    <tr>\n",
       "      <th>3</th>\n",
       "      <td>274.45</td>\n",
       "      <td>268.82</td>\n",
       "      <td>273.05</td>\n",
       "      <td>274.64</td>\n",
       "      <td>1016</td>\n",
       "      <td>-9999999.0</td>\n",
       "      <td>93</td>\n",
       "      <td>7.2</td>\n",
       "      <td>240</td>\n",
       "      <td>100</td>\n",
       "    </tr>\n",
       "    <tr>\n",
       "      <th>4</th>\n",
       "      <td>274.54</td>\n",
       "      <td>268.94</td>\n",
       "      <td>273.55</td>\n",
       "      <td>274.64</td>\n",
       "      <td>1016</td>\n",
       "      <td>-9999999.0</td>\n",
       "      <td>86</td>\n",
       "      <td>7.2</td>\n",
       "      <td>260</td>\n",
       "      <td>100</td>\n",
       "    </tr>\n",
       "  </tbody>\n",
       "</table>\n",
       "</div>"
      ],
      "text/plain": [
       "   temperature  feels_like  temp_min  temp_max  pressure  grnd_level  \\\n",
       "0       273.56      267.47    273.05    273.64      1015  -9999999.0   \n",
       "1       274.45      269.26    273.05    274.64      1016  -9999999.0   \n",
       "2       274.45      269.26    273.05    274.64      1016  -9999999.0   \n",
       "3       274.45      268.82    273.05    274.64      1016  -9999999.0   \n",
       "4       274.54      268.94    273.55    274.64      1016  -9999999.0   \n",
       "\n",
       "   humidity  wind_speed  wind_deg  clouds_all  \n",
       "0        92         7.7       220         100  \n",
       "1        88         6.2       260         100  \n",
       "2        93         6.2       230         100  \n",
       "3        93         7.2       240         100  \n",
       "4        86         7.2       260         100  "
      ]
     },
     "execution_count": 139,
     "metadata": {},
     "output_type": "execute_result"
    }
   ],
   "source": [
    "selected_df.head()"
   ]
  },
  {
   "cell_type": "code",
   "execution_count": 140,
   "metadata": {},
   "outputs": [
    {
     "name": "stdout",
     "output_type": "stream",
     "text": [
      "The accuracy of the model on the testing data is: 0.9250048177862525\n",
      "The predicted weather condition is: ['Rain' 'Clouds' 'Clouds' 'Clouds' 'Clouds' 'Clouds']\n"
     ]
    }
   ],
   "source": [
    "\n",
    "from imblearn.over_sampling import RandomOverSampler\n",
    "oversample = RandomOverSampler()\n",
    "X_resampled, y_resampled = oversample.fit_resample(selected_df, y)\n",
    "\n",
    "X_train, X_test, y_train, y_test = train_test_split(X_resampled, y_resampled, test_size=0.2, random_state=42)\n",
    "\n",
    "model = DecisionTreeClassifier()\n",
    "model.fit(X_train, y_train)\n",
    "\n",
    "y_pred = model.predict(X_test)\n",
    "accuracy = accuracy_score(y_test, y_pred)\n",
    "print(\"The accuracy of the model on the testing data is:\", accuracy)\n",
    "\n",
    "new_prediction = model.predict(selected_test)\n",
    "print(\"The predicted weather condition is:\", new_prediction)"
   ]
  },
  {
   "cell_type": "code",
   "execution_count": 142,
   "metadata": {},
   "outputs": [
    {
     "name": "stdout",
     "output_type": "stream",
     "text": [
      "Accuracy:  0.0\n"
     ]
    }
   ],
   "source": [
    "from sklearn.ensemble import RandomForestClassifier\n",
    "from imblearn.over_sampling import RandomOverSampler\n",
    "\n",
    "rfc = RandomForestClassifier(n_estimators=100, random_state=42)\n",
    "\n",
    "rfc.fit(X_train, y_train)\n",
    "\n",
    "y_pred_rf = rfc.predict(selected_test)\n",
    "\n",
    "accuracy = rfc.score(selected_test, df_test_y)\n",
    "print(\"Accuracy: \", accuracy)"
   ]
  },
  {
   "cell_type": "code",
   "execution_count": 143,
   "metadata": {},
   "outputs": [
    {
     "name": "stdout",
     "output_type": "stream",
     "text": [
      "['Mist' 'Rain' 'Clouds' 'Clouds' 'Clouds' 'Clouds']\n"
     ]
    }
   ],
   "source": [
    "print(y_pred_rf)"
   ]
  },
  {
   "cell_type": "code",
   "execution_count": 144,
   "metadata": {},
   "outputs": [],
   "source": [
    "import tkinter as tk\n",
    "from tkinter import ttk"
   ]
  },
  {
   "cell_type": "code",
   "execution_count": 153,
   "metadata": {},
   "outputs": [],
   "source": [
    "def kelvin_to_fahrenheit(temps):\n",
    "        \"\"\"Convert a list of temperatures from Kelvin to Fahrenheit.\"\"\"\n",
    "        return [((temp - 273.15) * 9/5) + 32 for temp in temps]"
   ]
  },
  {
   "cell_type": "code",
   "execution_count": 158,
   "metadata": {},
   "outputs": [],
   "source": [
    "import tkinter as tk\n",
    "import tkinter.ttk as ttk\n",
    "\n",
    "class WeatherForecastGUI:\n",
    "   \n",
    "\n",
    "    def __init__(self, master):\n",
    "        self.master = master\n",
    "        master.title(\"Cleveland Weather Forecast\")\n",
    "        master.geometry(\"800x400\")\n",
    "\n",
    "        # create a table to display the weather data\n",
    "        self.table = ttk.Treeview(master)\n",
    "        \n",
    "        self.table[\"columns\"] = ( \"temperature\", \"weather_conditions1\", \"weather_conditions2\" )\n",
    "        \n",
    "        self.table.heading(\"temperature\", text=\"Temperature\")\n",
    "        self.table.heading(\"weather_conditions1\", text=\"Prediction(Random_forest)\")\n",
    "        self.table.heading(\"weather_conditions2\", text=\"Prediction(Decison_tree)\")\n",
    "\n",
    "        # add the predicted weather data to the table\n",
    "        temperature = df_test[\"temperature\"]\n",
    "\n",
    "        temperature =kelvin_to_fahrenheit(temperature)\n",
    "        for temp in range(6):\n",
    "            temperature[temp] = round(temperature[temp], 2)\n",
    "\n",
    "\n",
    "        for i in range(6):\n",
    "            day = \"Day \" + str(i+1)\n",
    "            self.table.insert(\"\", tk.END, text=day,  values=(temperature[i] , y_pred_rf[i], new_prediction[i]))\n",
    "\n",
    "      \n",
    "        self.table.column(\"temperature\", width=100)\n",
    "        self.table.column(\"weather_conditions1\", width=200)\n",
    "        self.table.column(\"weather_conditions2\", width=200)\n",
    "        # display the table\n",
    "        self.table.pack()\n",
    "\n",
    "    \n",
    "\n",
    "if __name__ == '__main__':\n",
    "    root = tk.Tk()\n",
    "    WeatherForecastGUI(root)\n",
    "    root.mainloop()\n"
   ]
  }
 ],
 "metadata": {
  "kernelspec": {
   "display_name": "base",
   "language": "python",
   "name": "python3"
  },
  "language_info": {
   "codemirror_mode": {
    "name": "ipython",
    "version": 3
   },
   "file_extension": ".py",
   "mimetype": "text/x-python",
   "name": "python",
   "nbconvert_exporter": "python",
   "pygments_lexer": "ipython3",
   "version": "3.10.9"
  },
  "orig_nbformat": 4
 },
 "nbformat": 4,
 "nbformat_minor": 2
}
